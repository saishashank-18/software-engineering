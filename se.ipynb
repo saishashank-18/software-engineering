{
  "nbformat": 4,
  "nbformat_minor": 0,
  "metadata": {
    "colab": {
      "provenance": [],
      "authorship_tag": "ABX9TyPiyMmPBCDT+U7Px7qk3Re3",
      "include_colab_link": true
    },
    "kernelspec": {
      "name": "python3",
      "display_name": "Python 3"
    },
    "language_info": {
      "name": "python"
    }
  },
  "cells": [
    {
      "cell_type": "markdown",
      "metadata": {
        "id": "view-in-github",
        "colab_type": "text"
      },
      "source": [
        "<a href=\"https://colab.research.google.com/github/saishashank-18/software-engineering/blob/main/se.ipynb\" target=\"_parent\"><img src=\"https://colab.research.google.com/assets/colab-badge.svg\" alt=\"Open In Colab\"/></a>"
      ]
    },
    {
      "cell_type": "code",
      "execution_count": null,
      "metadata": {
        "colab": {
          "base_uri": "https://localhost:8080/"
        },
        "id": "CsnLDND_km84",
        "outputId": "c4bb7d1c-d73b-4807-f6ba-d9037ae28a00"
      },
      "outputs": [
        {
          "output_type": "stream",
          "name": "stdout",
          "text": [
            "1237.0\n",
            "sunny\n"
          ]
        }
      ],
      "source": [
        "w=80\n",
        "t=50\n",
        "h=30\n",
        "prediction=0.5*t**2-0.2*h+0.1*w-15\n",
        "print(prediction)\n",
        "if prediction>300:\n",
        "    print(\"sunny\")\n",
        "elif 200<prediction<=300:\n",
        "    print(\"cloudy\")\n",
        "elif 100<prediction<=200:\n",
        "    print(\"rainy\")\n",
        "elif prediction<=100:\n",
        "    print(\"stormy\")"
      ]
    },
    {
      "cell_type": "code",
      "source": [
        "w=float(input(\"enter the value of w:\"))\n",
        "t=float(input(\"enter the value of t:\"))\n",
        "h=float(input(\"enter the value of h:\"))\n",
        "prediction=0.5*t**2-0.2*h+0.1*w-15\n",
        "print(prediction)\n",
        "if prediction>300:\n",
        "    print(\"sunny\")\n",
        "elif 200<prediction<=300:\n",
        "    print(\"cloudy\")\n",
        "elif 100<prediction<=200:\n",
        "    print(\"rainy\")\n",
        "elif prediction<=100:\n",
        "    print(\"stormy\")"
      ],
      "metadata": {
        "colab": {
          "base_uri": "https://localhost:8080/"
        },
        "id": "0DKdhheRk0_z",
        "outputId": "c7ebf96b-2aae-4e36-fe77-c1fc7f825b26"
      },
      "execution_count": null,
      "outputs": [
        {
          "output_type": "stream",
          "name": "stdout",
          "text": [
            "enter the value of w:23.5\n",
            "enter the value of t:45.6\n",
            "enter the value of h:78.4\n",
            "1011.3499999999999\n",
            "sunny\n"
          ]
        }
      ]
    },
    {
      "cell_type": "code",
      "source": [
        "# weather prediction program\n",
        "def get_weather_data():\n",
        "    location = input(\"Enter location (city, country): \")\n",
        "    temperature = float(input(\"Temperature (°C): \"))\n",
        "    humidity = float(input(\"Humidity (%): \"))\n",
        "    wind_speed = float(input(\"Wind speed (km/h): \"))\n",
        "    return temperature, humidity, wind_speed\n",
        "def predict_weather(temperature, humidity, wind_speed):\n",
        "    if not (-30 <= temperature <= 50):\n",
        "        raise ValueError(\"Temperature out of range (-30°C to 50°C).\")\n",
        "    if not (0 <= humidity <= 100):\n",
        "        raise ValueError(\"Humidity out of range (0% to 100%).\")\n",
        "    if wind_speed < 0:\n",
        "        raise ValueError(\"Wind speed cannot be negative.\")\n",
        "    W = 0.5 * temperature**2 - 0.2 * humidity + 0.1 * wind_speed - 15\n",
        "    if W < 10:\n",
        "        return \"Sunny\"\n",
        "    elif W < 20:\n",
        "        return \"Cloudy\"\n",
        "    elif W < 30:\n",
        "        return \"Rainy\"\n",
        "    else:\n",
        "        return \"Stormy\"\n",
        "def main():\n",
        "    try:\n",
        "        temp, hum, wind = get_weather_data()\n",
        "        prediction = predict_weather(temp, hum, wind)\n",
        "        print(f\"Predicted weather: {prediction}\")\n",
        "    except ValueError as e:\n",
        "        print(f\"Error: {e}\")\n",
        "if __name__ == \"__main__\":\n",
        "    main()"
      ],
      "metadata": {
        "colab": {
          "base_uri": "https://localhost:8080/"
        },
        "id": "OhHjcY_mKSRV",
        "outputId": "5d419ea9-fb85-4859-aead-50c519bd59c3"
      },
      "execution_count": null,
      "outputs": [
        {
          "output_type": "stream",
          "name": "stdout",
          "text": [
            "Enter location (city, country): india\n",
            "Temperature (°C): 24\n",
            "Humidity (%): 32\n",
            "Wind speed (km/h): 5\n",
            "Predicted weather: Stormy\n"
          ]
        }
      ]
    },
    {
      "cell_type": "code",
      "source": [
        "# Multiple Inputs from File\n",
        "def calculate_weather_index(t, h):\n",
        "    return (0.5 * t**2 - 0.2 * h - 15) / 0.9\n",
        "def multiple_inputs_file_solution(filename):\n",
        "    try:\n",
        "        with open(filename, 'r') as file:\n",
        "            print(\"\\nMultiple Inputs from File:\")\n",
        "            for i, line in enumerate(file, start=1):\n",
        "                line = line.strip()\n",
        "                if not line:\n",
        "                    continue\n",
        "                t, h = map(float, line.split())\n",
        "                w = calculate_weather_index(t, h)\n",
        "                print(f\"Temperature: {t}, Humidity: {h}, Weather Index: {w:.2f}\")\n",
        "    except Exception as e:\n",
        "        print(f\"Error reading the file: {e}\")\n",
        "filename = 'multiple_inputs_weather.txt'\n",
        "multiple_inputs_file_solution(filename)"
      ],
      "metadata": {
        "colab": {
          "base_uri": "https://localhost:8080/"
        },
        "id": "PsQ5ED13KmMD",
        "outputId": "23bef367-966b-4f46-ab73-22f19526d5d7"
      },
      "execution_count": null,
      "outputs": [
        {
          "output_type": "stream",
          "name": "stdout",
          "text": [
            "Error reading the file: [Errno 2] No such file or directory: 'multiple_inputs_weather.txt'\n"
          ]
        }
      ]
    }
  ]
}